{
 "cells": [
  {
   "cell_type": "code",
   "execution_count": null,
   "id": "e124bff0-39f9-468c-91f0-f362583680f2",
   "metadata": {},
   "outputs": [],
   "source": [
    "#notebook go brrr"
   ]
  }
 ],
 "metadata": {
  "kernelspec": {
   "display_name": "Python 3 (ipykernel)",
   "language": "python",
   "name": "python3"
  },
  "language_info": {
   "codemirror_mode": {
    "name": "ipython",
    "version": 3
   },
   "file_extension": ".py",
   "mimetype": "text/x-python",
   "name": "python",
   "nbconvert_exporter": "python",
   "pygments_lexer": "ipython3",
   "version": "3.12.1"
  }
 },
 "nbformat": 4,
 "nbformat_minor": 5
}
